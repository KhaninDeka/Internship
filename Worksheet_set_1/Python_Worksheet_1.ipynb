{
 "cells": [
  {
   "cell_type": "code",
   "execution_count": 9,
   "id": "91451b75",
   "metadata": {},
   "outputs": [
    {
     "name": "stdout",
     "output_type": "stream",
     "text": [
      "Enter a number to find it's factorial: 6\n",
      "Factorial value:  720\n"
     ]
    }
   ],
   "source": [
    "#Write a python program to find the factorial of a number.\n",
    "\n",
    "import numpy as np\n",
    "import math \n",
    "\n",
    "n= int(input(\"Enter a number to find it's factorial: \"))\n",
    "fact_n = n\n",
    "if n==0:\n",
    "    print(\"Factorial value: 1\")\n",
    "elif n<0:\n",
    "    print(\"Invalid input\")\n",
    "else :\n",
    "    for i in range(1,n):\n",
    "        fact_n = fact_n*i\n",
    "    print(\"Factorial value: \", fact_n)\n",
    "    "
   ]
  },
  {
   "cell_type": "code",
   "execution_count": 15,
   "id": "8381bc65",
   "metadata": {},
   "outputs": [
    {
     "name": "stdout",
     "output_type": "stream",
     "text": [
      "Enter a number: 31\n",
      "Number is prime\n"
     ]
    }
   ],
   "source": [
    "# Write a python program to find whether a number is prime or composite.\n",
    "\n",
    "n= int(input(\"Enter a number: \"))\n",
    "x= 1\n",
    "if (n==0 or n==1):\n",
    "    print(\"number is neither prime nor composite\")\n",
    "elif n>1:\n",
    "    for i in range(2,n):\n",
    "        if n%i==0:\n",
    "            print(\"It is a composite number\")\n",
    "            break\n",
    "        x =i\n",
    "    if x==(n-1):\n",
    "        print(\"Number is prime\")\n",
    "else:\n",
    "    print(\"Please enter a positive number\")"
   ]
  },
  {
   "cell_type": "code",
   "execution_count": 13,
   "id": "180a6fc2",
   "metadata": {},
   "outputs": [
    {
     "name": "stdout",
     "output_type": "stream",
     "text": [
      "Enter a string: malayalam\n",
      "It is a palindrome\n"
     ]
    }
   ],
   "source": [
    "# Write a python program to check whether a given string is palindrome or not.\n",
    "\n",
    "n= input(\"Enter a string: \")\n",
    "n_rev = n[::-1]                                            #Using string indexing to select all the characters in reverse order\n",
    "\n",
    "if n==n_rev:\n",
    "    print(\"It is a palindrome\")\n",
    "else:\n",
    "    print(\"It isn't a palindrome\")"
   ]
  },
  {
   "cell_type": "code",
   "execution_count": 17,
   "id": "1d09a764",
   "metadata": {},
   "outputs": [
    {
     "name": "stdout",
     "output_type": "stream",
     "text": [
      "Enter '1' to get the value of Hypotenuse from the two other sides \n",
      "Enter '2' to get the value of Perpendicular or Base from other two sides \n",
      "Enter your choice: 2\n",
      "Enter the base or perpendicular value: 6\n",
      "Enter the hypotenuse value: 10\n",
      "Value of the other side:  8.0\n"
     ]
    }
   ],
   "source": [
    "# Write a Python program to get the third side of right-angled triangle from two given sides.\n",
    "\n",
    "import numpy as np\n",
    "\n",
    "print(\"Enter '1' to get the value of Hypotenuse from the two other sides \")\n",
    "print(\"Enter '2' to get the value of Perpendicular or Base from other two sides \")\n",
    "\n",
    "x= int(input(\"Enter your choice: \"))\n",
    "\n",
    "def case1():\n",
    "    b = int(input(\"Enter the base value: \"))\n",
    "    p = int(input(\"Enter the perpendicular value: \"))\n",
    "    h = np.sqrt(b**2 + p**2)\n",
    "    print(\"Value of Hypotenuse: \", h)\n",
    "    \n",
    "def case2():\n",
    "    b = int(input(\"Enter the base or perpendicular value: \"))\n",
    "    h = int(input(\"Enter the hypotenuse value: \"))\n",
    "    p = np.sqrt(h**2 - b**2)\n",
    "    print(\"Value of the other side: \", p)\n",
    "\n",
    "while True:\n",
    "    if x==1:\n",
    "        case1()\n",
    "        break\n",
    "    elif x==2:\n",
    "        case2()\n",
    "        break\n",
    "    else:\n",
    "        print(\"Please make a choice between option 1 and 2\")\n",
    "        x= int(input(\"Enter your choice: \"))\n",
    "    \n"
   ]
  },
  {
   "cell_type": "code",
   "execution_count": 8,
   "id": "5b939ea2",
   "metadata": {},
   "outputs": [
    {
     "name": "stdout",
     "output_type": "stream",
     "text": [
      "Enter a string: Khanin\n",
      "Frequency of each of the characters:\n",
      "n    2\n",
      "K    1\n",
      "h    1\n",
      "a    1\n",
      "i    1\n",
      "dtype: int64\n"
     ]
    }
   ],
   "source": [
    "# Write a python program to print the frequency of each of the characters present in a given string.\n",
    "\n",
    "import pandas as pd\n",
    "import warnings\n",
    "warnings.filterwarnings('ignore')\n",
    "\n",
    "x =  input(\"Enter a string: \")\n",
    "\n",
    "sr = pd.Series([])\n",
    "for i in range(0,len(x)):\n",
    "    sr[i] = x[i]\n",
    "print('Frequency of each of the characters:')\n",
    "print(sr.value_counts())\n"
   ]
  },
  {
   "cell_type": "code",
   "execution_count": null,
   "id": "278086be",
   "metadata": {},
   "outputs": [],
   "source": []
  }
 ],
 "metadata": {
  "kernelspec": {
   "display_name": "Python 3 (ipykernel)",
   "language": "python",
   "name": "python3"
  },
  "language_info": {
   "codemirror_mode": {
    "name": "ipython",
    "version": 3
   },
   "file_extension": ".py",
   "mimetype": "text/x-python",
   "name": "python",
   "nbconvert_exporter": "python",
   "pygments_lexer": "ipython3",
   "version": "3.9.7"
  }
 },
 "nbformat": 4,
 "nbformat_minor": 5
}
